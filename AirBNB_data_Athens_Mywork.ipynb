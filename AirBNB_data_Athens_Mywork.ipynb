{
 "cells": [
  {
   "cell_type": "markdown",
   "metadata": {},
   "source": [
    "# Library Packages for Data Analysis Manipulation and Machine Learning"
   ]
  },
  {
   "cell_type": "code",
   "execution_count": 1,
   "metadata": {},
   "outputs": [],
   "source": [
    "#Import linear algebra and data manipulation packages\n",
    "import numpy as np\n",
    "import pandas as pd\n",
    "import matplotlib as plt\n",
    "import seaborn as sns\n",
    "import unidecode as uni\n",
    "import calendar\n",
    "from datetime import datetime\n",
    "from tabulate import tabulate\n",
    "\n",
    "#Import plotting packages\n",
    "from matplotlib import pyplot as plt\n",
    "plt.style.use('ggplot')\n",
    "%matplotlib inline\n",
    "import seaborn as sns\n",
    "\n",
    "#Import machine learning packages\n",
    "from sklearn.linear_model import LinearRegression\n",
    "from sklearn.ensemble import RandomForestRegressor\n",
    "\n",
    "from sklearn.model_selection import train_test_split #split\n",
    "from sklearn.metrics import r2_score, mean_squared_error #metrics"
   ]
  },
  {
   "cell_type": "markdown",
   "metadata": {},
   "source": [
    "# Import Listings Dataset"
   ]
  },
  {
   "cell_type": "code",
   "execution_count": 2,
   "metadata": {},
   "outputs": [
    {
     "name": "stdout",
     "output_type": "stream",
     "text": [
      "listings.csv dataset contains information on 9673 listings provided by 4809 hosts.\n"
     ]
    },
    {
     "data": {
      "text/html": [
       "<div>\n",
       "<style scoped>\n",
       "    .dataframe tbody tr th:only-of-type {\n",
       "        vertical-align: middle;\n",
       "    }\n",
       "\n",
       "    .dataframe tbody tr th {\n",
       "        vertical-align: top;\n",
       "    }\n",
       "\n",
       "    .dataframe thead th {\n",
       "        text-align: right;\n",
       "    }\n",
       "</style>\n",
       "<table border=\"1\" class=\"dataframe\">\n",
       "  <thead>\n",
       "    <tr style=\"text-align: right;\">\n",
       "      <th></th>\n",
       "      <th>id</th>\n",
       "      <th>listing_url</th>\n",
       "      <th>scrape_id</th>\n",
       "      <th>last_scraped</th>\n",
       "      <th>name</th>\n",
       "      <th>description</th>\n",
       "      <th>neighborhood_overview</th>\n",
       "      <th>picture_url</th>\n",
       "      <th>host_id</th>\n",
       "      <th>host_url</th>\n",
       "      <th>...</th>\n",
       "      <th>review_scores_communication</th>\n",
       "      <th>review_scores_location</th>\n",
       "      <th>review_scores_value</th>\n",
       "      <th>license</th>\n",
       "      <th>instant_bookable</th>\n",
       "      <th>calculated_host_listings_count</th>\n",
       "      <th>calculated_host_listings_count_entire_homes</th>\n",
       "      <th>calculated_host_listings_count_private_rooms</th>\n",
       "      <th>calculated_host_listings_count_shared_rooms</th>\n",
       "      <th>reviews_per_month</th>\n",
       "    </tr>\n",
       "  </thead>\n",
       "  <tbody>\n",
       "    <tr>\n",
       "      <th>0</th>\n",
       "      <td>10595</td>\n",
       "      <td>https://www.airbnb.com/rooms/10595</td>\n",
       "      <td>20211223003724</td>\n",
       "      <td>2021-12-23</td>\n",
       "      <td>96m2, 3BR, 2BA, Metro, WI-FI etc...</td>\n",
       "      <td>Athens Furnished Apartment No6 is 3-bedroom ap...</td>\n",
       "      <td>Ampelokipi district is nice multinational and ...</td>\n",
       "      <td>https://a0.muscache.com/pictures/f7e19a44-5afe...</td>\n",
       "      <td>37177</td>\n",
       "      <td>https://www.airbnb.com/users/show/37177</td>\n",
       "      <td>...</td>\n",
       "      <td>4.84</td>\n",
       "      <td>4.50</td>\n",
       "      <td>4.66</td>\n",
       "      <td>00000957568</td>\n",
       "      <td>t</td>\n",
       "      <td>6</td>\n",
       "      <td>6</td>\n",
       "      <td>0</td>\n",
       "      <td>0</td>\n",
       "      <td>0.25</td>\n",
       "    </tr>\n",
       "    <tr>\n",
       "      <th>1</th>\n",
       "      <td>10990</td>\n",
       "      <td>https://www.airbnb.com/rooms/10990</td>\n",
       "      <td>20211223003724</td>\n",
       "      <td>2021-12-23</td>\n",
       "      <td>Athens Quality Apartments - Deluxe Apartment</td>\n",
       "      <td>Athens Quality Apartments - Deluxe apartment i...</td>\n",
       "      <td>Ampelokipi district is nice multinational and ...</td>\n",
       "      <td>https://a0.muscache.com/pictures/8645179/c1728...</td>\n",
       "      <td>37177</td>\n",
       "      <td>https://www.airbnb.com/users/show/37177</td>\n",
       "      <td>...</td>\n",
       "      <td>4.91</td>\n",
       "      <td>4.81</td>\n",
       "      <td>4.79</td>\n",
       "      <td>00001070920</td>\n",
       "      <td>t</td>\n",
       "      <td>6</td>\n",
       "      <td>6</td>\n",
       "      <td>0</td>\n",
       "      <td>0</td>\n",
       "      <td>0.48</td>\n",
       "    </tr>\n",
       "    <tr>\n",
       "      <th>2</th>\n",
       "      <td>10993</td>\n",
       "      <td>https://www.airbnb.com/rooms/10993</td>\n",
       "      <td>20211223003724</td>\n",
       "      <td>2021-12-23</td>\n",
       "      <td>Athens Quality Apartments - Studio</td>\n",
       "      <td>The Studio is an &lt;br /&gt;-excellent located &lt;br ...</td>\n",
       "      <td>Ampelokipi district is nice multinational and ...</td>\n",
       "      <td>https://a0.muscache.com/pictures/107309527/848...</td>\n",
       "      <td>37177</td>\n",
       "      <td>https://www.airbnb.com/users/show/37177</td>\n",
       "      <td>...</td>\n",
       "      <td>4.97</td>\n",
       "      <td>4.83</td>\n",
       "      <td>4.80</td>\n",
       "      <td>00000957080</td>\n",
       "      <td>t</td>\n",
       "      <td>6</td>\n",
       "      <td>6</td>\n",
       "      <td>0</td>\n",
       "      <td>0</td>\n",
       "      <td>0.67</td>\n",
       "    </tr>\n",
       "    <tr>\n",
       "      <th>3</th>\n",
       "      <td>10995</td>\n",
       "      <td>https://www.airbnb.com/rooms/10995</td>\n",
       "      <td>20211223003724</td>\n",
       "      <td>2021-12-23</td>\n",
       "      <td>AQA-No2 1-bedroom, smart tv, fiber connection,</td>\n",
       "      <td>AQA No2 is 1-bedroom apartment (47m2), on the ...</td>\n",
       "      <td>Ampelokipi district is nice multinational and ...</td>\n",
       "      <td>https://a0.muscache.com/pictures/6a565613-aaa3...</td>\n",
       "      <td>37177</td>\n",
       "      <td>https://www.airbnb.com/users/show/37177</td>\n",
       "      <td>...</td>\n",
       "      <td>4.88</td>\n",
       "      <td>4.80</td>\n",
       "      <td>4.80</td>\n",
       "      <td>00000957422</td>\n",
       "      <td>t</td>\n",
       "      <td>6</td>\n",
       "      <td>6</td>\n",
       "      <td>0</td>\n",
       "      <td>0</td>\n",
       "      <td>0.19</td>\n",
       "    </tr>\n",
       "    <tr>\n",
       "      <th>4</th>\n",
       "      <td>27262</td>\n",
       "      <td>https://www.airbnb.com/rooms/27262</td>\n",
       "      <td>20211223003724</td>\n",
       "      <td>2021-12-23</td>\n",
       "      <td>54m2, 1-br, cable tv, wi-fi, metro</td>\n",
       "      <td>Big 1-bedroom apartment that can accommodate 4...</td>\n",
       "      <td>NaN</td>\n",
       "      <td>https://a0.muscache.com/pictures/8651803/4b82b...</td>\n",
       "      <td>37177</td>\n",
       "      <td>https://www.airbnb.com/users/show/37177</td>\n",
       "      <td>...</td>\n",
       "      <td>5.00</td>\n",
       "      <td>4.69</td>\n",
       "      <td>4.63</td>\n",
       "      <td>00000957579</td>\n",
       "      <td>t</td>\n",
       "      <td>6</td>\n",
       "      <td>6</td>\n",
       "      <td>0</td>\n",
       "      <td>0</td>\n",
       "      <td>0.15</td>\n",
       "    </tr>\n",
       "  </tbody>\n",
       "</table>\n",
       "<p>5 rows × 74 columns</p>\n",
       "</div>"
      ],
      "text/plain": [
       "      id                         listing_url       scrape_id last_scraped  \\\n",
       "0  10595  https://www.airbnb.com/rooms/10595  20211223003724   2021-12-23   \n",
       "1  10990  https://www.airbnb.com/rooms/10990  20211223003724   2021-12-23   \n",
       "2  10993  https://www.airbnb.com/rooms/10993  20211223003724   2021-12-23   \n",
       "3  10995  https://www.airbnb.com/rooms/10995  20211223003724   2021-12-23   \n",
       "4  27262  https://www.airbnb.com/rooms/27262  20211223003724   2021-12-23   \n",
       "\n",
       "                                             name  \\\n",
       "0             96m2, 3BR, 2BA, Metro, WI-FI etc...   \n",
       "1    Athens Quality Apartments - Deluxe Apartment   \n",
       "2              Athens Quality Apartments - Studio   \n",
       "3  AQA-No2 1-bedroom, smart tv, fiber connection,   \n",
       "4              54m2, 1-br, cable tv, wi-fi, metro   \n",
       "\n",
       "                                         description  \\\n",
       "0  Athens Furnished Apartment No6 is 3-bedroom ap...   \n",
       "1  Athens Quality Apartments - Deluxe apartment i...   \n",
       "2  The Studio is an <br />-excellent located <br ...   \n",
       "3  AQA No2 is 1-bedroom apartment (47m2), on the ...   \n",
       "4  Big 1-bedroom apartment that can accommodate 4...   \n",
       "\n",
       "                               neighborhood_overview  \\\n",
       "0  Ampelokipi district is nice multinational and ...   \n",
       "1  Ampelokipi district is nice multinational and ...   \n",
       "2  Ampelokipi district is nice multinational and ...   \n",
       "3  Ampelokipi district is nice multinational and ...   \n",
       "4                                                NaN   \n",
       "\n",
       "                                         picture_url  host_id  \\\n",
       "0  https://a0.muscache.com/pictures/f7e19a44-5afe...    37177   \n",
       "1  https://a0.muscache.com/pictures/8645179/c1728...    37177   \n",
       "2  https://a0.muscache.com/pictures/107309527/848...    37177   \n",
       "3  https://a0.muscache.com/pictures/6a565613-aaa3...    37177   \n",
       "4  https://a0.muscache.com/pictures/8651803/4b82b...    37177   \n",
       "\n",
       "                                  host_url  ... review_scores_communication  \\\n",
       "0  https://www.airbnb.com/users/show/37177  ...                        4.84   \n",
       "1  https://www.airbnb.com/users/show/37177  ...                        4.91   \n",
       "2  https://www.airbnb.com/users/show/37177  ...                        4.97   \n",
       "3  https://www.airbnb.com/users/show/37177  ...                        4.88   \n",
       "4  https://www.airbnb.com/users/show/37177  ...                        5.00   \n",
       "\n",
       "  review_scores_location review_scores_value      license instant_bookable  \\\n",
       "0                   4.50                4.66  00000957568                t   \n",
       "1                   4.81                4.79  00001070920                t   \n",
       "2                   4.83                4.80  00000957080                t   \n",
       "3                   4.80                4.80  00000957422                t   \n",
       "4                   4.69                4.63  00000957579                t   \n",
       "\n",
       "  calculated_host_listings_count calculated_host_listings_count_entire_homes  \\\n",
       "0                              6                                           6   \n",
       "1                              6                                           6   \n",
       "2                              6                                           6   \n",
       "3                              6                                           6   \n",
       "4                              6                                           6   \n",
       "\n",
       "  calculated_host_listings_count_private_rooms  \\\n",
       "0                                            0   \n",
       "1                                            0   \n",
       "2                                            0   \n",
       "3                                            0   \n",
       "4                                            0   \n",
       "\n",
       "  calculated_host_listings_count_shared_rooms reviews_per_month  \n",
       "0                                           0              0.25  \n",
       "1                                           0              0.48  \n",
       "2                                           0              0.67  \n",
       "3                                           0              0.19  \n",
       "4                                           0              0.15  \n",
       "\n",
       "[5 rows x 74 columns]"
      ]
     },
     "execution_count": 2,
     "metadata": {},
     "output_type": "execute_result"
    }
   ],
   "source": [
    "#import the listings dataset\n",
    "listings_df = pd.read_csv('C:/Users/polym/listings.csv')\n",
    "\n",
    "#find number of listings and number of hosts\n",
    "listings_number = listings_df['id'].count()\n",
    "hosts_number = len(listings_df['host_id'].unique())\n",
    "\n",
    "print('listings.csv dataset contains information on %d listings provided by %d hosts.' % (listings_number, hosts_number))\n",
    "\n",
    "#print first 10 rows of listings dataset                                                                                          #hosts_number))\n",
    "listings_df.head()"
   ]
  },
  {
   "cell_type": "code",
   "execution_count": 5,
   "metadata": {},
   "outputs": [
    {
     "data": {
      "text/plain": [
       "<AxesSubplot:>"
      ]
     },
     "execution_count": 5,
     "metadata": {},
     "output_type": "execute_result"
    },
    {
     "data": {
      "image/png": "[encoded data removed]",
      "text/plain": [
       "<Figure size 720x432 with 1 Axes>"
      ]
     },
     "metadata": {
      "needs_background": "light"
     },
     "output_type": "display_data"
    }
   ],
   "source": [
    "#find percentage of missing values for each column\n",
    "listings_missing_df = listings_df.isnull().mean()*100\n",
    "\n",
    "#filter out only columns, which have missing values\n",
    "listings_columns_with_nan = listings_missing_df[listings_missing_df > 0]\n",
    "\n",
    "#plot the results\n",
    "plt.rcParams[\"figure.figsize\"] = (10,6)\n",
    "listings_columns_with_nan.plot.bar()"
   ]
  },
  {
   "cell_type": "markdown",
   "metadata": {},
   "source": [
    "# Import Calendar Dataset"
   ]
  },
  {
   "cell_type": "code",
   "execution_count": 6,
   "metadata": {},
   "outputs": [
    {
     "name": "stdout",
     "output_type": "stream",
     "text": [
      "calendar.csv dataset contains 3530645 rows and 7 columns.\n",
      "The first date of observation is 2021-12-23 and the last date is 2022-12-22.\n"
     ]
    },
    {
     "data": {
      "text/html": [
       "<div>\n",
       "<style scoped>\n",
       "    .dataframe tbody tr th:only-of-type {\n",
       "        vertical-align: middle;\n",
       "    }\n",
       "\n",
       "    .dataframe tbody tr th {\n",
       "        vertical-align: top;\n",
       "    }\n",
       "\n",
       "    .dataframe thead th {\n",
       "        text-align: right;\n",
       "    }\n",
       "</style>\n",
       "<table border=\"1\" class=\"dataframe\">\n",
       "  <thead>\n",
       "    <tr style=\"text-align: right;\">\n",
       "      <th></th>\n",
       "      <th>listing_id</th>\n",
       "      <th>date</th>\n",
       "      <th>available</th>\n",
       "      <th>price</th>\n",
       "      <th>adjusted_price</th>\n",
       "      <th>minimum_nights</th>\n",
       "      <th>maximum_nights</th>\n",
       "    </tr>\n",
       "  </thead>\n",
       "  <tbody>\n",
       "    <tr>\n",
       "      <th>0</th>\n",
       "      <td>1927601</td>\n",
       "      <td>2021-12-23</td>\n",
       "      <td>f</td>\n",
       "      <td>$65.00</td>\n",
       "      <td>$65.00</td>\n",
       "      <td>1</td>\n",
       "      <td>14</td>\n",
       "    </tr>\n",
       "    <tr>\n",
       "      <th>1</th>\n",
       "      <td>1927601</td>\n",
       "      <td>2021-12-24</td>\n",
       "      <td>t</td>\n",
       "      <td>$65.00</td>\n",
       "      <td>$65.00</td>\n",
       "      <td>1</td>\n",
       "      <td>14</td>\n",
       "    </tr>\n",
       "    <tr>\n",
       "      <th>2</th>\n",
       "      <td>1927601</td>\n",
       "      <td>2021-12-25</td>\n",
       "      <td>t</td>\n",
       "      <td>$65.00</td>\n",
       "      <td>$65.00</td>\n",
       "      <td>1</td>\n",
       "      <td>14</td>\n",
       "    </tr>\n",
       "    <tr>\n",
       "      <th>3</th>\n",
       "      <td>1927601</td>\n",
       "      <td>2021-12-26</td>\n",
       "      <td>t</td>\n",
       "      <td>$65.00</td>\n",
       "      <td>$65.00</td>\n",
       "      <td>1</td>\n",
       "      <td>14</td>\n",
       "    </tr>\n",
       "    <tr>\n",
       "      <th>4</th>\n",
       "      <td>1927601</td>\n",
       "      <td>2021-12-27</td>\n",
       "      <td>t</td>\n",
       "      <td>$65.00</td>\n",
       "      <td>$65.00</td>\n",
       "      <td>1</td>\n",
       "      <td>14</td>\n",
       "    </tr>\n",
       "  </tbody>\n",
       "</table>\n",
       "</div>"
      ],
      "text/plain": [
       "   listing_id        date available   price adjusted_price  minimum_nights  \\\n",
       "0     1927601  2021-12-23         f  $65.00         $65.00               1   \n",
       "1     1927601  2021-12-24         t  $65.00         $65.00               1   \n",
       "2     1927601  2021-12-25         t  $65.00         $65.00               1   \n",
       "3     1927601  2021-12-26         t  $65.00         $65.00               1   \n",
       "4     1927601  2021-12-27         t  $65.00         $65.00               1   \n",
       "\n",
       "   maximum_nights  \n",
       "0              14  \n",
       "1              14  \n",
       "2              14  \n",
       "3              14  \n",
       "4              14  "
      ]
     },
     "execution_count": 6,
     "metadata": {},
     "output_type": "execute_result"
    }
   ],
   "source": [
    "#read the dataset\n",
    "calendar_df = pd.read_csv('C:/Users/polym/calendar.csv')\n",
    "\n",
    "#find number of rows and columns in dataset\n",
    "rows_num = calendar_df.shape[0]\n",
    "cols_num=calendar_df.shape[1]\n",
    "\n",
    "#find first and last date of the calendar\n",
    "min_date = calendar_df['date'].min()\n",
    "max_date = calendar_df['date'].max()\n",
    "\n",
    "print('calendar.csv dataset contains %d rows and %d columns.' % (rows_num,cols_num))\n",
    "print('The first date of observation is %s and the last date is %s.' % (min_date, max_date))\n",
    "\n",
    "#print first 10 rows of calendar dataset                                                                                          #hosts_number))\n",
    "calendar_df.head()"
   ]
  },
  {
   "cell_type": "code",
   "execution_count": 7,
   "metadata": {},
   "outputs": [
    {
     "name": "stdout",
     "output_type": "stream",
     "text": [
      "calendar.csv dataset contains 3530645 rows and 7 columns.\n"
     ]
    },
    {
     "data": {
      "text/html": [
       "<div>\n",
       "<style scoped>\n",
       "    .dataframe tbody tr th:only-of-type {\n",
       "        vertical-align: middle;\n",
       "    }\n",
       "\n",
       "    .dataframe tbody tr th {\n",
       "        vertical-align: top;\n",
       "    }\n",
       "\n",
       "    .dataframe thead th {\n",
       "        text-align: right;\n",
       "    }\n",
       "</style>\n",
       "<table border=\"1\" class=\"dataframe\">\n",
       "  <thead>\n",
       "    <tr style=\"text-align: right;\">\n",
       "      <th></th>\n",
       "      <th>listing_id</th>\n",
       "      <th>date</th>\n",
       "      <th>available</th>\n",
       "      <th>price</th>\n",
       "      <th>adjusted_price</th>\n",
       "      <th>minimum_nights</th>\n",
       "      <th>maximum_nights</th>\n",
       "    </tr>\n",
       "  </thead>\n",
       "  <tbody>\n",
       "    <tr>\n",
       "      <th>0</th>\n",
       "      <td>1927601</td>\n",
       "      <td>2021-12-23</td>\n",
       "      <td>f</td>\n",
       "      <td>$65.00</td>\n",
       "      <td>$65.00</td>\n",
       "      <td>1</td>\n",
       "      <td>14</td>\n",
       "    </tr>\n",
       "    <tr>\n",
       "      <th>1</th>\n",
       "      <td>1927601</td>\n",
       "      <td>2021-12-24</td>\n",
       "      <td>t</td>\n",
       "      <td>$65.00</td>\n",
       "      <td>$65.00</td>\n",
       "      <td>1</td>\n",
       "      <td>14</td>\n",
       "    </tr>\n",
       "  </tbody>\n",
       "</table>\n",
       "</div>"
      ],
      "text/plain": [
       "   listing_id        date available   price adjusted_price  minimum_nights  \\\n",
       "0     1927601  2021-12-23         f  $65.00         $65.00               1   \n",
       "1     1927601  2021-12-24         t  $65.00         $65.00               1   \n",
       "\n",
       "   maximum_nights  \n",
       "0              14  \n",
       "1              14  "
      ]
     },
     "execution_count": 7,
     "metadata": {},
     "output_type": "execute_result"
    }
   ],
   "source": [
    "print('calendar.csv dataset contains %d rows and %d columns.' % (rows_num,cols_num))\n",
    "\n",
    "#print first 10 rows of calendar dataset                                                                                          #hosts_number))\n",
    "calendar_df.head(2)"
   ]
  },
  {
   "cell_type": "markdown",
   "metadata": {},
   "source": [
    "# Missing Values in Calendar Dataset"
   ]
  },
  {
   "cell_type": "code",
   "execution_count": 8,
   "metadata": {},
   "outputs": [
    {
     "data": {
      "text/plain": [
       "<AxesSubplot:title={'center':'Missing values per column, %'}>"
      ]
     },
     "execution_count": 8,
     "metadata": {},
     "output_type": "execute_result"
    },
    {
     "data": {
      "image/png": "[encoded data removed]",
      "text/plain": [
       "<Figure size 720x432 with 1 Axes>"
      ]
     },
     "metadata": {
      "needs_background": "light"
     },
     "output_type": "display_data"
    }
   ],
   "source": [
    "#get percentage of missing values for each column in dataset\n",
    "calendar_missing_df = pd.DataFrame([calendar_df.isnull().mean()*100])\n",
    "\n",
    "#plot the results\n",
    "plt.rcParams[\"figure.figsize\"] = (10,6)\n",
    "calendar_missing_df.plot.bar(title='Missing values per column, %')"
   ]
  },
  {
   "cell_type": "markdown",
   "metadata": {},
   "source": [
    "# Preprocess Step"
   ]
  },
  {
   "cell_type": "markdown",
   "metadata": {},
   "source": [
    "# i) Left Join Calendar and Listings datasets on Listing_id"
   ]
  },
  {
   "cell_type": "code",
   "execution_count": 9,
   "metadata": {},
   "outputs": [],
   "source": [
    "#rename id column as listing_id in order to match the join afterwards\n",
    "listings_df = listings_df.rename(index=str, columns={\"id\": \"listing_id\"})\n",
    "\n",
    "#left join two datasets on listing_id to obtain a combined dataframe\n",
    "df = pd.merge(calendar_df, listings_df, on = 'listing_id',how=\"left\")"
   ]
  },
  {
   "cell_type": "markdown",
   "metadata": {},
   "source": [
    "# ii) Columns Data Transformations "
   ]
  },
  {
   "cell_type": "code",
   "execution_count": 10,
   "metadata": {},
   "outputs": [],
   "source": [
    "#extract month from date represented as a string\n",
    "df['month'] = df.apply(lambda row: int(row['date'].split('-')[1]),axis=1)\n",
    "\n",
    "#extract year from date represented as a string\n",
    "df['year'] = df.apply(lambda row: int(row['date'].split('-')[0]),axis=1)\n",
    "\n",
    "#convert price to number eliminating the $ sign\n",
    "df['price'] = df['price_x'].astype(str)\n",
    "df['price'] = df['price'].str.replace(\"[$, ]\", \"\").astype(\"float\")\n",
    "\n",
    "#extract month name from month represented as an integer\n",
    "df[\"month_name\"]=df['month'].apply(lambda row: calendar.month_abbr[row])\n",
    "\n",
    "#extract day name from month represented as date \n",
    "df[\"day_name\"]=df['date'].apply(lambda row: pd.Timestamp(row).day_name())"
   ]
  },
  {
   "cell_type": "markdown",
   "metadata": {},
   "source": [
    "# iii) Remove Missing Rows and Impute Missing Information"
   ]
  },
  {
   "cell_type": "code",
   "execution_count": null,
   "metadata": {},
   "outputs": [],
   "source": [
    "#remove rows from dataframe where price_x == nan, because price will be used as response column\n",
    "df = df.dropna(subset=['price_x'])\n",
    "\n",
    "#impute missing values with mean value for host_listings_count\n",
    "df['host_listings_count'].fillna(df['host_listings_count'].mean(), inplace = True)\n",
    "    \n",
    "#impute in missing values for bedrooms and beds with mode\n",
    "df['bedrooms'] = df['bedrooms'].fillna(df['bedrooms'].mode()[0])\n",
    "df['beds'] = df['beds'].fillna(df['beds'].mode()[0])\n",
    "    \n",
    "    \n",
    "#fill missing values for review scores columns\n",
    "review_scores_columns = ['review_scores_rating', 'review_scores_accuracy', 'review_scores_cleanliness',\n",
    "                         'review_scores_checkin', 'review_scores_communication', 'review_scores_location',\n",
    "                        'review_scores_value']\n",
    "\n",
    "#iterate over all review_score_columns to impute with the mean of each respective column\n",
    "for column in review_scores_columns:    \n",
    "    df[column].fillna(df[column].mean(), inplace = True)"
   ]
  },
  {
   "cell_type": "markdown",
   "metadata": {},
   "source": [
    "# iii) Drop Redundant or Full Missing Columns"
   ]
  },
  {
   "cell_type": "code",
   "execution_count": null,
   "metadata": {},
   "outputs": [],
   "source": [
    "#the list of irrelevant columns\n",
    "columns_to_drop = ['available', 'host_id','host_location','host_acceptance_rate','host_neighbourhood',\n",
    "                   'host_total_listings_count', 'calendar_updated',\n",
    "                   'listing_url','last_scraped' ,'scrape_id', 'name', 'description',\n",
    "                    'neighbourhood', 'neighbourhood_cleansed',\"neighbourhood_group_cleansed\",\"bathrooms\",\n",
    "                   'neighborhood_overview', 'picture_url',\n",
    "                    'host_url', 'host_name', 'host_about', 'host_thumbnail_url', 'host_picture_url',\n",
    "                    'has_availability', 'availability_30',\n",
    "                   'availability_60', 'availability_90', 'availability_365', 'calendar_last_scraped',\n",
    "                  'first_review', 'last_review', 'license', 'price_y',\n",
    "                  'reviews_per_month','date','price_x','host_response_rate']\n",
    "\n",
    "#drop only the irrelevant columns\n",
    "df=df.drop(columns=columns_to_drop)"
   ]
  },
  {
   "cell_type": "markdown",
   "metadata": {},
   "source": [
    "# iv) Filter only listings of 2022"
   ]
  },
  {
   "cell_type": "code",
   "execution_count": null,
   "metadata": {},
   "outputs": [],
   "source": [
    "#we will focus only on listings of 2022\n",
    "df=df[df[\"year\"]==2022]\n",
    "df.shape"
   ]
  },
  {
   "cell_type": "code",
   "execution_count": null,
   "metadata": {},
   "outputs": [],
   "source": [
    "#set figure size\n",
    "plt.rcParams[\"figure.figsize\"] = (10,6)\n",
    "\n",
    "#set x tick-marks\n",
    "x_ticks_labels = ['Jan','Feb','Mar','Apr','May','Jun','Jul','Aug','Sep','Oct','Nov','Dec']\n",
    "\n",
    "#group by month and month name and aggregate over average price\n",
    "my=df.groupby(['month',\"month_name\"],sort = True).mean()['price']\n",
    "\n",
    "#drop index month_name\n",
    "my=my.reset_index(level=[\"month_name\"],drop=True)\n",
    "\n",
    "#object oriented programming for the plot\n",
    "fig, ax = plt.subplots(1,1) \n",
    "ax.plot(list(my.index),my.values,marker = 'o',color=\"fuchsia\")\n",
    "\n",
    "# Set number of ticks for x-axis\n",
    "ax.set_xticks(list(my.index))\n",
    "# Set ticks labels for x-axis\n",
    "ax.set_xticklabels(x_ticks_labels, rotation='horizontal', fontsize=20)\n",
    "ax.set_ylabel(\"Price ($)\", fontsize=20)\n",
    "ax.set_xlabel(\"Month\", fontsize=20)\n",
    "plt.title(\"Monthly Average Prices in Athens\",loc='left', fontsize=20)\n",
    "plt.yticks(fontsize=20)"
   ]
  },
  {
   "cell_type": "code",
   "execution_count": null,
   "metadata": {},
   "outputs": [],
   "source": [
    "my=df[['month','price']].groupby('month').agg(['mean','std','count']).round(2).reset_index()\n",
    "my[\"month\"]=my['month'].apply(lambda x: calendar.month_abbr[x])\n",
    "my.rename(columns={'mean': 'Average','std':'Standard Deviation','count':'#Listings'},level=1,inplace=True) \n",
    "my.rename(columns={'month': 'Month','price':'Price'},level=0,inplace=True) \n",
    "my.set_index('Month',inplace=True)\n",
    "print(tabulate(my, headers=[\"Month\",\"Average Price\",\"Standard Deviation\", \"#Listings\"], tablefmt='fancy_grid',showindex='always'))"
   ]
  },
  {
   "cell_type": "code",
   "execution_count": null,
   "metadata": {},
   "outputs": [],
   "source": [
    "plt.rcParams[\"figure.figsize\"] = (10,6)\n",
    "x_ticks_labels = [\"Mon\",\"Tue\",\"Wed\",\"Thu\",\"Fri\",\"Sat\",\"Sun\"]\n",
    "my=df.groupby(['day_name'],sort = True).mean()['price']\n",
    "my=my.reset_index()\n",
    "my[\"day_name\"]=[5,1,6,7,4,2,3]\n",
    "my.set_index('day_name',inplace=True)\n",
    "my.sort_index(inplace=True)\n",
    "\n",
    "fig, ax = plt.subplots(1,1) \n",
    "ax.plot(list(my.index),my.values,marker = 'o',color=\"fuchsia\")\n",
    "\n",
    "# Set number of ticks for x-axis\n",
    "ax.set_xticks(list(my.index))\n",
    "# Set ticks labels for x-axis\n",
    "ax.set_xticklabels(x_ticks_labels, rotation='horizontal', fontsize=20)\n",
    "ax.set_ylabel(\"Price ($)\",fontsize=20)\n",
    "ax.set_xlabel(\"Day of Week\",fontsize=20)\n",
    "plt.title(\"Daily Average Prices in Athens\",loc='left',fontsize=20)\n",
    "plt.yticks(fontsize=20)"
   ]
  },
  {
   "cell_type": "code",
   "execution_count": null,
   "metadata": {},
   "outputs": [],
   "source": [
    "my=df[[\"day_name\",\"price\"]].groupby(['day_name'],sort = True).agg(['mean','std','count']).round(2)\n",
    "my=my.reset_index()\n",
    "my[\"day_name\"]=[5,1,6,7,4,2,3]\n",
    "my.set_index('day_name',inplace=True)\n",
    "my.sort_index(inplace=True)\n",
    "my=my.reset_index()\n",
    "my[\"day_name\"]=[\"Mon\",\"Tue\",\"Wed\",\"Thu\",\"Fri\",\"Sat\",\"Sun\"]\n",
    "my.set_index('day_name',inplace=True)\n",
    "print(tabulate(my, headers=[\"Day of Week\",\"Average Price\",\"Standard Deviation\", \"#Listings\"], tablefmt='fancy_grid',showindex='always'))"
   ]
  },
  {
   "cell_type": "code",
   "execution_count": null,
   "metadata": {},
   "outputs": [],
   "source": [
    "plt.rcParams[\"figure.figsize\"] = (20,10)\n",
    "my=df.groupby(['property_type']).mean().sort_values('price', ascending=False)[\"price\"]\n",
    "\n",
    "plt.bar(list(my.index)[0:4],my.values[0:4],width=0.3,color=\"fuchsia\")\n",
    "plt.ylabel(\"Price ($)\",fontsize=24)\n",
    "plt.xlabel(\"Property\",fontsize=24)\n",
    "plt.title(\"Top 4 Luxurious Properties in Athens\",loc='left',fontsize=24)\n",
    "plt.xticks(rotation=45, ha=\"right\",fontsize=24)\n",
    "plt.yticks(fontsize=24)"
   ]
  },
  {
   "cell_type": "code",
   "execution_count": null,
   "metadata": {},
   "outputs": [],
   "source": [
    "my=round(df[\"property_type\"].value_counts()/df.shape[0]*100,2)[0:8]\n",
    "plt.bar(list(my.index)[0:4],my.values[0:4],width=0.3,color=\"fuchsia\")\n",
    "plt.ylabel(\"%\",fontsize=24)\n",
    "plt.xlabel(\"Property\",fontsize=24)\n",
    "plt.title(\"Top 4 Popular Properties in Athens\",loc='left',fontsize=24)\n",
    "plt.xticks(rotation=45, ha=\"right\",fontsize=24)\n",
    "plt.yticks(fontsize=24)"
   ]
  },
  {
   "cell_type": "code",
   "execution_count": null,
   "metadata": {},
   "outputs": [],
   "source": [
    "plt.rcParams[\"figure.figsize\"] = (20,10)\n",
    "my=df.groupby(['room_type']).mean().sort_values('price', ascending=False)[\"price\"]\n",
    "\n",
    "plt.bar(list(my.index),my.values,width=0.3,color=\"fuchsia\")\n",
    "plt.ylabel(\"Price ($)\",fontsize=24)\n",
    "plt.xlabel(\"Room\",fontsize=24)\n",
    "plt.title(\"Top 4 Luxurious Rooms in Athens\",loc='left',fontsize=24)\n",
    "plt.xticks(rotation=45, ha=\"right\",fontsize=24)\n",
    "plt.yticks(fontsize=24)"
   ]
  },
  {
   "cell_type": "code",
   "execution_count": null,
   "metadata": {},
   "outputs": [],
   "source": [
    "my=round(df[\"room_type\"].value_counts()/df.shape[0]*100,2)\n",
    "plt.bar(list(my.index),my.values,width=0.3,color=\"fuchsia\")\n",
    "plt.ylabel(\"%\",fontsize=24)\n",
    "plt.xlabel(\"Room\",fontsize=24)\n",
    "plt.title(\"Top 4 Popular Rooms in Athens\",loc='left',fontsize=24)\n",
    "plt.xticks(rotation=45, ha=\"right\",fontsize=24)\n",
    "plt.yticks(fontsize=24)"
   ]
  },
  {
   "cell_type": "code",
   "execution_count": null,
   "metadata": {},
   "outputs": [],
   "source": [
    "#find number of total number of listings for each month in 2016\n",
    "number_of_listings_by_month = pd.Series([12])\n",
    "for i in range(1, 13):\n",
    "    number_of_listings_by_month[i] = len(df[(df['month'] == i) & (df['year'] == 2022)]['listing_id'].unique())\n",
    "    \n",
    "number_of_listings_by_month = number_of_listings_by_month.drop(0)\n",
    "\n",
    "#plot\n",
    "\n",
    "plt.plot(number_of_listings_by_month)\n"
   ]
  },
  {
   "cell_type": "code",
   "execution_count": null,
   "metadata": {},
   "outputs": [],
   "source": [
    "df.property_type.value_counts()"
   ]
  },
  {
   "cell_type": "code",
   "execution_count": null,
   "metadata": {},
   "outputs": [],
   "source": [
    "df.columns"
   ]
  },
  {
   "cell_type": "code",
   "execution_count": null,
   "metadata": {},
   "outputs": [],
   "source": [
    "sns.pairplot(df)"
   ]
  },
  {
   "cell_type": "code",
   "execution_count": null,
   "metadata": {},
   "outputs": [],
   "source": []
  }
 ],
 "metadata": {
  "kernelspec": {
   "display_name": "Python 3",
   "language": "python",
   "name": "python3"
  },
  "language_info": {
   "codemirror_mode": {
    "name": "ipython",
    "version": 3
   },
   "file_extension": ".py",
   "mimetype": "text/x-python",
   "name": "python",
   "nbconvert_exporter": "python",
   "pygments_lexer": "ipython3",
   "version": "3.7.7"
  },
  "varInspector": {
   "cols": {
    "lenName": 16,
    "lenType": 16,
    "lenVar": 40
   },
   "kernels_config": {
    "python": {
     "delete_cmd_postfix": "",
     "delete_cmd_prefix": "del ",
     "library": "var_list.py",
     "varRefreshCmd": "print(var_dic_list())"
    },
    "r": {
     "delete_cmd_postfix": ") ",
     "delete_cmd_prefix": "rm(",
     "library": "var_list.r",
     "varRefreshCmd": "cat(var_dic_list()) "
    }
   },
   "oldHeight": 122.85,
   "position": {
    "height": "403.85px",
    "left": "1016.2px",
    "right": "20px",
    "top": "266px",
    "width": "447px"
   },
   "types_to_exclude": [
    "module",
    "function",
    "builtin_function_or_method",
    "instance",
    "_Feature"
   ],
   "varInspector_section_display": "block",
   "window_display": false
  }
 },
 "nbformat": 4,
 "nbformat_minor": 4
}
